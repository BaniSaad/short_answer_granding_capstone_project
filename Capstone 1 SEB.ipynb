{
 "cells": [
  {
   "cell_type": "markdown",
   "metadata": {},
   "source": [
    "# Capstone Project - Short Answer Grading\n",
    "\n",
    "## SciEntsBank Data and Modeling"
   ]
  },
  {
   "cell_type": "code",
   "execution_count": 141,
   "metadata": {},
   "outputs": [
    {
     "name": "stdout",
     "output_type": "stream",
     "text": [
      "\u001b[34mfrom\u001b[39;49;00m \u001b[04m\u001b[36m__future__\u001b[39;49;00m \u001b[34mimport\u001b[39;49;00m absolute_import, division, print_function, unicode_literals\n",
      "\u001b[34mimport\u001b[39;49;00m \u001b[04m\u001b[36mtensorflow\u001b[39;49;00m \u001b[34mas\u001b[39;49;00m \u001b[04m\u001b[36mtf\u001b[39;49;00m\n",
      "\n",
      "\u001b[34mimport\u001b[39;49;00m \u001b[04m\u001b[36margparse\u001b[39;49;00m\n",
      "\u001b[34mimport\u001b[39;49;00m \u001b[04m\u001b[36mos\u001b[39;49;00m\n",
      "\u001b[34mimport\u001b[39;49;00m \u001b[04m\u001b[36msys\u001b[39;49;00m\n",
      "\u001b[34mimport\u001b[39;49;00m \u001b[04m\u001b[36mpandas\u001b[39;49;00m \u001b[34mas\u001b[39;49;00m \u001b[04m\u001b[36mpd\u001b[39;49;00m\n",
      "\n",
      "\u001b[34mfrom\u001b[39;49;00m \u001b[04m\u001b[36mtensorflow.python.keras\u001b[39;49;00m \u001b[34mimport\u001b[39;49;00m Sequential\n",
      "\u001b[34mfrom\u001b[39;49;00m \u001b[04m\u001b[36mtensorflow.python.keras.layers\u001b[39;49;00m \u001b[34mimport\u001b[39;49;00m Embedding, LSTM, Dropout, Dense, Flatten, Reshape\n",
      "\u001b[34mfrom\u001b[39;49;00m \u001b[04m\u001b[36mtensorflow.python.training.adam\u001b[39;49;00m \u001b[34mimport\u001b[39;49;00m AdamOptimizer\n",
      "\n",
      "\u001b[34mif\u001b[39;49;00m \u001b[31m__name__\u001b[39;49;00m == \u001b[33m'\u001b[39;49;00m\u001b[33m__main__\u001b[39;49;00m\u001b[33m'\u001b[39;49;00m:\n",
      "    \u001b[37m# All of the model parameters and training parameters are sent as arguments\u001b[39;49;00m\n",
      "    \u001b[37m# when this script is executed, during a training job\u001b[39;49;00m\n",
      "\n",
      "    \u001b[37m# Here we set up an argument parser to easily access the parameters\u001b[39;49;00m\n",
      "    parser = argparse.ArgumentParser()\n",
      "\n",
      "    \u001b[37m# SageMaker parameters, like the directories for training data and saving models; set automatically\u001b[39;49;00m\n",
      "    \u001b[37m# Do not need to change\u001b[39;49;00m\n",
      "    parser.add_argument(\u001b[33m'\u001b[39;49;00m\u001b[33m--output-data-dir\u001b[39;49;00m\u001b[33m'\u001b[39;49;00m, \u001b[36mtype\u001b[39;49;00m=\u001b[36mstr\u001b[39;49;00m, default=os.environ[\u001b[33m'\u001b[39;49;00m\u001b[33mSM_OUTPUT_DATA_DIR\u001b[39;49;00m\u001b[33m'\u001b[39;49;00m])\n",
      "    parser.add_argument(\u001b[33m'\u001b[39;49;00m\u001b[33m--data-dir\u001b[39;49;00m\u001b[33m'\u001b[39;49;00m, \u001b[36mtype\u001b[39;49;00m=\u001b[36mstr\u001b[39;49;00m, default=os.environ[\u001b[33m'\u001b[39;49;00m\u001b[33mSM_CHANNEL_TRAINING\u001b[39;49;00m\u001b[33m'\u001b[39;49;00m])\n",
      "    parser.add_argument(\u001b[33m'\u001b[39;49;00m\u001b[33m--model_dir\u001b[39;49;00m\u001b[33m'\u001b[39;49;00m, \u001b[36mtype\u001b[39;49;00m=\u001b[36mstr\u001b[39;49;00m, default=os.environ[\u001b[33m'\u001b[39;49;00m\u001b[33mSM_MODEL_DIR\u001b[39;49;00m\u001b[33m'\u001b[39;49;00m])\n",
      "    parser.add_argument(\u001b[33m'\u001b[39;49;00m\u001b[33m--epochs\u001b[39;49;00m\u001b[33m'\u001b[39;49;00m, \u001b[36mtype\u001b[39;49;00m=\u001b[36mint\u001b[39;49;00m, default=\u001b[34m200\u001b[39;49;00m)\n",
      "    parser.add_argument(\u001b[33m'\u001b[39;49;00m\u001b[33m--embedding_size\u001b[39;49;00m\u001b[33m'\u001b[39;49;00m, \u001b[36mtype\u001b[39;49;00m=\u001b[36mint\u001b[39;49;00m, default=\u001b[34m50\u001b[39;49;00m)\n",
      "    parser.add_argument(\u001b[33m'\u001b[39;49;00m\u001b[33m--flatten\u001b[39;49;00m\u001b[33m'\u001b[39;49;00m, \u001b[36mtype\u001b[39;49;00m=\u001b[36mint\u001b[39;49;00m, default=\u001b[34m0\u001b[39;49;00m)\n",
      "    parser.add_argument(\u001b[33m'\u001b[39;49;00m\u001b[33m--lstm_dim_1\u001b[39;49;00m\u001b[33m'\u001b[39;49;00m, \u001b[36mtype\u001b[39;49;00m=\u001b[36mint\u001b[39;49;00m, default=\u001b[34m100\u001b[39;49;00m)\n",
      "    parser.add_argument(\u001b[33m'\u001b[39;49;00m\u001b[33m--lstm_dim_2\u001b[39;49;00m\u001b[33m'\u001b[39;49;00m, \u001b[36mtype\u001b[39;49;00m=\u001b[36mint\u001b[39;49;00m, default=\u001b[34m0\u001b[39;49;00m)\n",
      "    parser.add_argument(\u001b[33m'\u001b[39;49;00m\u001b[33m--dropout\u001b[39;49;00m\u001b[33m'\u001b[39;49;00m, \u001b[36mtype\u001b[39;49;00m=\u001b[36mfloat\u001b[39;49;00m, default=\u001b[34m0.2\u001b[39;49;00m)\n",
      "\n",
      "\n",
      "    \u001b[37m# args holds all passed-in arguments\u001b[39;49;00m\n",
      "    args = parser.parse_args()\n",
      "\n",
      "    \u001b[34mprint\u001b[39;49;00m(f\u001b[33m\"\u001b[39;49;00m\u001b[33mepochs={args.epochs} embedding_size={args.embedding_size} lstm_size={args.lstm_size}\u001b[39;49;00m\u001b[33m\"\u001b[39;49;00m)\n",
      "\n",
      "    \u001b[37m# Read in csv training file\u001b[39;49;00m\n",
      "    training_dir = args.data_dir\n",
      "    train_data = pd.read_csv(os.path.join(training_dir, \u001b[33m\"\u001b[39;49;00m\u001b[33mtrain.csv\u001b[39;49;00m\u001b[33m\"\u001b[39;49;00m), header=\u001b[36mNone\u001b[39;49;00m, names=\u001b[36mNone\u001b[39;49;00m)\n",
      "    test_data = pd.read_csv(os.path.join(training_dir, \u001b[33m\"\u001b[39;49;00m\u001b[33mtest.csv\u001b[39;49;00m\u001b[33m\"\u001b[39;49;00m), header=\u001b[36mNone\u001b[39;49;00m, names=\u001b[36mNone\u001b[39;49;00m)\n",
      "    vocab = pd.read_csv(os.path.join(training_dir, \u001b[33m\"\u001b[39;49;00m\u001b[33mvocab.csv\u001b[39;49;00m\u001b[33m\"\u001b[39;49;00m), header=\u001b[36mNone\u001b[39;49;00m, names=\u001b[36mNone\u001b[39;49;00m)\n",
      "\n",
      "    \u001b[37m# Labels are in the first column\u001b[39;49;00m\n",
      "    train_y = train_data.iloc[:, \u001b[34m0\u001b[39;49;00m]\n",
      "    train_x = train_data.iloc[:, \u001b[34m1\u001b[39;49;00m:]\n",
      "    max_answer_len = train_x.values.shape[\u001b[34m1\u001b[39;49;00m]\n",
      "\n",
      "    \u001b[37m# Build Model\u001b[39;49;00m\n",
      "    model = Sequential()\n",
      "    model.add(Embedding(\u001b[36mlen\u001b[39;49;00m(vocab), args.embedding_size, input_length=max_answer_len))\n",
      "    model.add(Dropout(args.dropout))\n",
      "    \u001b[34mif\u001b[39;49;00m args.flatten:\n",
      "        model.add(Flatten())\n",
      "        model.add(Reshape((\u001b[34m1\u001b[39;49;00m, args.embedding_size * max_answer_len)))\n",
      "    \u001b[34mif\u001b[39;49;00m args.lstm_dim_2:\n",
      "        model.add(LSTM(params[\u001b[33m'\u001b[39;49;00m\u001b[33mlstm_dim_1\u001b[39;49;00m\u001b[33m'\u001b[39;49;00m], return_sequences=\u001b[36mTrue\u001b[39;49;00m))\n",
      "        model.add(LSTM(params[\u001b[33m'\u001b[39;49;00m\u001b[33mlstm_dim_2\u001b[39;49;00m\u001b[33m'\u001b[39;49;00m], return_sequences=\u001b[36mFalse\u001b[39;49;00m))\n",
      "    \u001b[34melse\u001b[39;49;00m:\n",
      "        model.add(LSTM(params[\u001b[33m'\u001b[39;49;00m\u001b[33mlstm_dim_1\u001b[39;49;00m\u001b[33m'\u001b[39;49;00m], return_sequences=\u001b[36mFalse\u001b[39;49;00m))\n",
      "    model.add(Dropout(args.dropout))\n",
      "    model.add(Dense(\u001b[34m1\u001b[39;49;00m, activation=\u001b[33m\"\u001b[39;49;00m\u001b[33mlinear\u001b[39;49;00m\u001b[33m\"\u001b[39;49;00m))\n",
      "    optimizer = AdamOptimizer()\n",
      "    model.compile(optimizer=optimizer, loss=\u001b[33m'\u001b[39;49;00m\u001b[33mmean_squared_error\u001b[39;49;00m\u001b[33m'\u001b[39;49;00m, metrics=[\u001b[33m'\u001b[39;49;00m\u001b[33macc\u001b[39;49;00m\u001b[33m'\u001b[39;49;00m])\n",
      "\n",
      "\n",
      "    \u001b[37m# Train the model\u001b[39;49;00m\n",
      "    model.fit(train_x, train_y, epochs=args.epochs, verbose=\u001b[34m0\u001b[39;49;00m)\n",
      "    \n",
      "    \u001b[37m# Validate\u001b[39;49;00m\n",
      "    test_y = test_data.iloc[:, \u001b[34m0\u001b[39;49;00m]\n",
      "    test_x = test_data.iloc[:, \u001b[34m1\u001b[39;49;00m:]\n",
      "    score = model.evaluate(test_x, test_y, verbose=\u001b[34m0\u001b[39;49;00m)\n",
      "    \u001b[34mprint\u001b[39;49;00m(f\u001b[33m\"\u001b[39;49;00m\u001b[33mValidation_loss:{score[0]};Validation_accuracy:{score[1]};\u001b[39;49;00m\u001b[33m\"\u001b[39;49;00m)\n",
      "\n",
      "    \u001b[37m## --- End of your code  --- ##\u001b[39;49;00m\n",
      "\n",
      "    \u001b[37m# Save the trained model\u001b[39;49;00m\n",
      "    result = tf.contrib.saved_model.save_keras_model(model, os.environ[\u001b[33m'\u001b[39;49;00m\u001b[33mSM_MODEL_DIR\u001b[39;49;00m\u001b[33m'\u001b[39;49;00m])\n",
      "    \u001b[34mprint\u001b[39;49;00m(f\u001b[33m\"\u001b[39;49;00m\u001b[33mSave Keras Model result: {result}\u001b[39;49;00m\u001b[33m\"\u001b[39;49;00m)\n",
      " \n"
     ]
    }
   ],
   "source": [
    "# source code for SKLearn custom train.py\n",
    "!pygmentize source/train.py"
   ]
  },
  {
   "cell_type": "markdown",
   "metadata": {},
   "source": [
    "# Setup AWS"
   ]
  },
  {
   "cell_type": "code",
   "execution_count": 3,
   "metadata": {},
   "outputs": [],
   "source": [
    "import pandas as pd\n",
    "import boto3\n",
    "import sagemaker\n",
    "\n",
    "# session and role\n",
    "sagemaker_session = sagemaker.Session()\n",
    "role = sagemaker.get_execution_role()\n",
    "\n",
    "# create an S3 bucket\n",
    "bucket = sagemaker_session.default_bucket()"
   ]
  },
  {
   "cell_type": "code",
   "execution_count": 6,
   "metadata": {},
   "outputs": [],
   "source": [
    "# should be the name of directory you created to save your features data\n",
    "data_dir = 'data/seb'\n",
    "\n",
    "# set prefix, a descriptive name for a directory  \n",
    "prefix = 'sagemaker/short_answer'\n",
    "\n",
    "# upload all data to S3\n",
    "input_data = sagemaker_session.upload_data(path=data_dir, bucket=bucket, key_prefix=prefix)"
   ]
  },
  {
   "cell_type": "markdown",
   "metadata": {},
   "source": [
    "# Training Basic Model"
   ]
  },
  {
   "cell_type": "code",
   "execution_count": 142,
   "metadata": {},
   "outputs": [],
   "source": [
    "from sagemaker.tensorflow import TensorFlow\n",
    "\n",
    "estimator = TensorFlow(entry_point='source/train.py', \n",
    "                       role=role,\n",
    "                       train_instance_count=1, \n",
    "                       train_instance_type='ml.c4.xlarge',\n",
    "                       framework_version='1.12.0', \n",
    "                       py_version='py3',\n",
    "                       script_mode=True,\n",
    "                       hyperparameters = {\n",
    "                        'epochs': 200,\n",
    "                        'embedding_size': 30,\n",
    "                        'flatten': 0,   \n",
    "                        'lstm_dim_1': 100,\n",
    "                        'lstm_dim_2': 0,\n",
    "                        'dropout': 0.2\n",
    "                    })"
   ]
  },
  {
   "cell_type": "code",
   "execution_count": 146,
   "metadata": {},
   "outputs": [
    {
     "name": "stdout",
     "output_type": "stream",
     "text": [
      "2019-06-29 00:27:21 Starting - Starting the training job...\n",
      "2019-06-29 00:27:22 Starting - Launching requested ML instances......\n",
      "2019-06-29 00:28:24 Starting - Preparing the instances for training...\n",
      "2019-06-29 00:29:19 Downloading - Downloading input data...\n",
      "2019-06-29 00:29:51 Training - Training image download completed. Training in progress..\n",
      "\u001b[31m2019-06-29 00:29:54,022 sagemaker-containers INFO     Imported framework sagemaker_tensorflow_container.training\u001b[0m\n",
      "\u001b[31m2019-06-29 00:29:54,030 sagemaker-containers INFO     No GPUs detected (normal if no gpus installed)\u001b[0m\n",
      "\u001b[31m2019-06-29 00:29:54,349 sagemaker-containers INFO     No GPUs detected (normal if no gpus installed)\u001b[0m\n",
      "\u001b[31m2019-06-29 00:29:54,364 sagemaker-containers INFO     No GPUs detected (normal if no gpus installed)\u001b[0m\n",
      "\u001b[31m2019-06-29 00:29:54,375 sagemaker-containers INFO     Invoking user script\n",
      "\u001b[0m\n",
      "\u001b[31mTraining Env:\n",
      "\u001b[0m\n",
      "\u001b[31m{\n",
      "    \"additional_framework_parameters\": {},\n",
      "    \"channel_input_dirs\": {\n",
      "        \"training\": \"/opt/ml/input/data/training\"\n",
      "    },\n",
      "    \"current_host\": \"algo-1\",\n",
      "    \"framework_module\": \"sagemaker_tensorflow_container.training:main\",\n",
      "    \"hosts\": [\n",
      "        \"algo-1\"\n",
      "    ],\n",
      "    \"hyperparameters\": {\n",
      "        \"lstm_dim_1\": 100,\n",
      "        \"lstm_dim_2\": 0,\n",
      "        \"embedding_size\": 30,\n",
      "        \"flatten\": 0,\n",
      "        \"dropout\": 0.2,\n",
      "        \"model_dir\": \"s3://sagemaker-us-east-1-399712746635/sagemaker-tensorflow-scriptmode-2019-06-28-22-55-50-357/model\",\n",
      "        \"epochs\": 200\n",
      "    },\n",
      "    \"input_config_dir\": \"/opt/ml/input/config\",\n",
      "    \"input_data_config\": {\n",
      "        \"training\": {\n",
      "            \"TrainingInputMode\": \"File\",\n",
      "            \"S3DistributionType\": \"FullyReplicated\",\n",
      "            \"RecordWrapperType\": \"None\"\n",
      "        }\n",
      "    },\n",
      "    \"input_dir\": \"/opt/ml/input\",\n",
      "    \"is_master\": true,\n",
      "    \"job_name\": \"sagemaker-tensorflow-scriptmode-2019-06-29-00-27-20-776\",\n",
      "    \"log_level\": 20,\n",
      "    \"master_hostname\": \"algo-1\",\n",
      "    \"model_dir\": \"/opt/ml/model\",\n",
      "    \"module_dir\": \"s3://sagemaker-us-east-1-399712746635/sagemaker-tensorflow-scriptmode-2019-06-29-00-27-20-776/source/sourcedir.tar.gz\",\n",
      "    \"module_name\": \"train\",\n",
      "    \"network_interface_name\": \"eth0\",\n",
      "    \"num_cpus\": 4,\n",
      "    \"num_gpus\": 0,\n",
      "    \"output_data_dir\": \"/opt/ml/output/data\",\n",
      "    \"output_dir\": \"/opt/ml/output\",\n",
      "    \"output_intermediate_dir\": \"/opt/ml/output/intermediate\",\n",
      "    \"resource_config\": {\n",
      "        \"current_host\": \"algo-1\",\n",
      "        \"hosts\": [\n",
      "            \"algo-1\"\n",
      "        ],\n",
      "        \"network_interface_name\": \"eth0\"\n",
      "    },\n",
      "    \"user_entry_point\": \"train.py\"\u001b[0m\n",
      "\u001b[31m}\n",
      "\u001b[0m\n",
      "\u001b[31mEnvironment variables:\n",
      "\u001b[0m\n",
      "\u001b[31mSM_HOSTS=[\"algo-1\"]\u001b[0m\n",
      "\u001b[31mSM_NETWORK_INTERFACE_NAME=eth0\u001b[0m\n",
      "\u001b[31mSM_HPS={\"dropout\":0.2,\"embedding_size\":30,\"epochs\":200,\"flatten\":0,\"lstm_dim_1\":100,\"lstm_dim_2\":0,\"model_dir\":\"s3://sagemaker-us-east-1-399712746635/sagemaker-tensorflow-scriptmode-2019-06-28-22-55-50-357/model\"}\u001b[0m\n",
      "\u001b[31mSM_USER_ENTRY_POINT=train.py\u001b[0m\n",
      "\u001b[31mSM_FRAMEWORK_PARAMS={}\u001b[0m\n",
      "\u001b[31mSM_RESOURCE_CONFIG={\"current_host\":\"algo-1\",\"hosts\":[\"algo-1\"],\"network_interface_name\":\"eth0\"}\u001b[0m\n",
      "\u001b[31mSM_INPUT_DATA_CONFIG={\"training\":{\"RecordWrapperType\":\"None\",\"S3DistributionType\":\"FullyReplicated\",\"TrainingInputMode\":\"File\"}}\u001b[0m\n",
      "\u001b[31mSM_OUTPUT_DATA_DIR=/opt/ml/output/data\u001b[0m\n",
      "\u001b[31mSM_CHANNELS=[\"training\"]\u001b[0m\n",
      "\u001b[31mSM_CURRENT_HOST=algo-1\u001b[0m\n",
      "\u001b[31mSM_MODULE_NAME=train\u001b[0m\n",
      "\u001b[31mSM_LOG_LEVEL=20\u001b[0m\n",
      "\u001b[31mSM_FRAMEWORK_MODULE=sagemaker_tensorflow_container.training:main\u001b[0m\n",
      "\u001b[31mSM_INPUT_DIR=/opt/ml/input\u001b[0m\n",
      "\u001b[31mSM_INPUT_CONFIG_DIR=/opt/ml/input/config\u001b[0m\n",
      "\u001b[31mSM_OUTPUT_DIR=/opt/ml/output\u001b[0m\n",
      "\u001b[31mSM_NUM_CPUS=4\u001b[0m\n",
      "\u001b[31mSM_NUM_GPUS=0\u001b[0m\n",
      "\u001b[31mSM_MODEL_DIR=/opt/ml/model\u001b[0m\n",
      "\u001b[31mSM_MODULE_DIR=s3://sagemaker-us-east-1-399712746635/sagemaker-tensorflow-scriptmode-2019-06-29-00-27-20-776/source/sourcedir.tar.gz\u001b[0m\n",
      "\u001b[31mSM_TRAINING_ENV={\"additional_framework_parameters\":{},\"channel_input_dirs\":{\"training\":\"/opt/ml/input/data/training\"},\"current_host\":\"algo-1\",\"framework_module\":\"sagemaker_tensorflow_container.training:main\",\"hosts\":[\"algo-1\"],\"hyperparameters\":{\"dropout\":0.2,\"embedding_size\":30,\"epochs\":200,\"flatten\":0,\"lstm_dim_1\":100,\"lstm_dim_2\":0,\"model_dir\":\"s3://sagemaker-us-east-1-399712746635/sagemaker-tensorflow-scriptmode-2019-06-28-22-55-50-357/model\"},\"input_config_dir\":\"/opt/ml/input/config\",\"input_data_config\":{\"training\":{\"RecordWrapperType\":\"None\",\"S3DistributionType\":\"FullyReplicated\",\"TrainingInputMode\":\"File\"}},\"input_dir\":\"/opt/ml/input\",\"is_master\":true,\"job_name\":\"sagemaker-tensorflow-scriptmode-2019-06-29-00-27-20-776\",\"log_level\":20,\"master_hostname\":\"algo-1\",\"model_dir\":\"/opt/ml/model\",\"module_dir\":\"s3://sagemaker-us-east-1-399712746635/sagemaker-tensorflow-scriptmode-2019-06-29-00-27-20-776/source/sourcedir.tar.gz\",\"module_name\":\"train\",\"network_interface_name\":\"eth0\",\"num_cpus\":4,\"num_gpus\":0,\"output_data_dir\":\"/opt/ml/output/data\",\"output_dir\":\"/opt/ml/output\",\"output_intermediate_dir\":\"/opt/ml/output/intermediate\",\"resource_config\":{\"current_host\":\"algo-1\",\"hosts\":[\"algo-1\"],\"network_interface_name\":\"eth0\"},\"user_entry_point\":\"train.py\"}\u001b[0m\n",
      "\u001b[31mSM_USER_ARGS=[\"--dropout\",\"0.2\",\"--embedding_size\",\"30\",\"--epochs\",\"200\",\"--flatten\",\"0\",\"--lstm_dim_1\",\"100\",\"--lstm_dim_2\",\"0\",\"--model_dir\",\"s3://sagemaker-us-east-1-399712746635/sagemaker-tensorflow-scriptmode-2019-06-28-22-55-50-357/model\"]\u001b[0m\n",
      "\u001b[31mSM_OUTPUT_INTERMEDIATE_DIR=/opt/ml/output/intermediate\u001b[0m\n",
      "\u001b[31mSM_CHANNEL_TRAINING=/opt/ml/input/data/training\u001b[0m\n",
      "\u001b[31mSM_HP_LSTM_DIM_1=100\u001b[0m\n",
      "\u001b[31mSM_HP_LSTM_DIM_2=0\u001b[0m\n",
      "\u001b[31mSM_HP_EMBEDDING_SIZE=30\u001b[0m\n",
      "\u001b[31mSM_HP_FLATTEN=0\u001b[0m\n",
      "\u001b[31mSM_HP_DROPOUT=0.2\u001b[0m\n",
      "\u001b[31mSM_HP_MODEL_DIR=s3://sagemaker-us-east-1-399712746635/sagemaker-tensorflow-scriptmode-2019-06-28-22-55-50-357/model\u001b[0m\n",
      "\u001b[31mSM_HP_EPOCHS=200\u001b[0m\n",
      "\u001b[31mPYTHONPATH=/opt/ml/code:/usr/local/bin:/usr/lib/python36.zip:/usr/lib/python3.6:/usr/lib/python3.6/lib-dynload:/usr/local/lib/python3.6/dist-packages:/usr/lib/python3/dist-packages\n",
      "\u001b[0m\n",
      "\u001b[31mInvoking script with the following command:\n",
      "\u001b[0m\n",
      "\u001b[31m/usr/bin/python train.py --dropout 0.2 --embedding_size 30 --epochs 200 --flatten 0 --lstm_dim_1 100 --lstm_dim_2 0 --model_dir s3://sagemaker-us-east-1-399712746635/sagemaker-tensorflow-scriptmode-2019-06-28-22-55-50-357/model\n",
      "\n",
      "\u001b[0m\n",
      "\u001b[31mepochs=200 embedding_size=30 lstm_dim_1=100 lstm_dim_2=0 dropout=0.2\u001b[0m\n",
      "\u001b[31mValidation_loss:0.3394927874554035;Validation_accuracy:0.6511627893115199;\u001b[0m\n",
      "\u001b[31mWARNING:tensorflow:Export includes no default signature!\u001b[0m\n",
      "\u001b[31mWARNING:tensorflow:Export includes no default signature!\u001b[0m\n",
      "\u001b[31mSave Keras Model result: b\"/opt/ml/model/temp-b'1561768291'\"\u001b[0m\n",
      "\u001b[31m2019-06-29 00:31:35,022 sagemaker-containers INFO     Reporting training SUCCESS\u001b[0m\n",
      "\n",
      "2019-06-29 00:31:43 Uploading - Uploading generated training model\n",
      "2019-06-29 00:31:43 Completed - Training job completed\n",
      "Billable seconds: 145\n",
      "CPU times: user 565 ms, sys: 24.6 ms, total: 590 ms\n",
      "Wall time: 4min 42s\n"
     ]
    }
   ],
   "source": [
    "%%time\n",
    "# Train estimator on S3 training data\n",
    "estimator.fit(input_data)"
   ]
  },
  {
   "cell_type": "markdown",
   "metadata": {},
   "source": [
    "# Hypertuning Model"
   ]
  },
  {
   "cell_type": "code",
   "execution_count": 125,
   "metadata": {},
   "outputs": [],
   "source": [
    "# First, make sure to import the relevant objects used to construct the tuner\n",
    "from sagemaker.tuner import IntegerParameter, ContinuousParameter, HyperparameterTuner\n",
    "\n",
    "tf_hyperparameter_tuner = HyperparameterTuner(estimator = estimator, # The estimator object to use as the basis for the training jobs.\n",
    "                                               objective_metric_name = 'Validation_accuracy', # The metric used to compare trained models.\n",
    "                                               objective_type = 'Maximize', # Whether we wish to minimize or maximize the metric.\n",
    "                                               metric_definitions = [{'Name': 'Validation_loss', \n",
    "                                                                      'Regex': 'Validation_loss:(.*?);'},\n",
    "                                                                     {'Name': 'Validation_accuracy', \n",
    "                                                                      'Regex': 'Validation_accuracy:(.*?);'}\n",
    "                                                                    ],\n",
    "                                               max_jobs = 18, # The total number of models to train\n",
    "                                               max_parallel_jobs = 6, # The number of models to train in parallel\n",
    "                                               hyperparameter_ranges = {\n",
    "                                                    'dropout': ContinuousParameter(0.1, 0.4),\n",
    "                                                    'embedding_size': IntegerParameter(20, 100),\n",
    "                                                    'lstm_dim_1': IntegerParameter(50, 150)\n",
    "                                               })\n"
   ]
  },
  {
   "cell_type": "code",
   "execution_count": 126,
   "metadata": {},
   "outputs": [],
   "source": [
    "# tf_hyperparameter_tuner.fit({'train': s3_input_train, 'validation': s3_input_validation})\n",
    "tf_hyperparameter_tuner.fit(input_data)"
   ]
  },
  {
   "cell_type": "code",
   "execution_count": 127,
   "metadata": {},
   "outputs": [
    {
     "name": "stdout",
     "output_type": "stream",
     "text": [
      "...................................................................................................................................................................................................!\n"
     ]
    }
   ],
   "source": [
    "tf_hyperparameter_tuner.wait()"
   ]
  },
  {
   "cell_type": "code",
   "execution_count": 129,
   "metadata": {},
   "outputs": [
    {
     "data": {
      "text/plain": [
       "'sagemaker-tensorflow-190625-2206-006-877d978f'"
      ]
     },
     "execution_count": 129,
     "metadata": {},
     "output_type": "execute_result"
    }
   ],
   "source": [
    "tf_hyperparameter_tuner.best_training_job()"
   ]
  },
  {
   "cell_type": "code",
   "execution_count": 130,
   "metadata": {},
   "outputs": [
    {
     "name": "stdout",
     "output_type": "stream",
     "text": [
      "2019-06-25 22:12:05 Starting - Preparing the instances for training\n",
      "2019-06-25 22:12:05 Downloading - Downloading input data\n",
      "2019-06-25 22:12:05 Training - Training image download completed. Training in progress.\n",
      "2019-06-25 22:12:05 Uploading - Uploading generated training model\n",
      "2019-06-25 22:12:05 Completed - Training job completed\u001b[31m2019-06-25 22:10:04,881 sagemaker-containers INFO     Imported framework sagemaker_tensorflow_container.training\u001b[0m\n",
      "\u001b[31m2019-06-25 22:10:04,882 sagemaker-containers INFO     Failed to parse hyperparameter _tuning_objective_metric value Validation_accuracy to Json.\u001b[0m\n",
      "\u001b[31mReturning the value itself\u001b[0m\n",
      "\u001b[31m2019-06-25 22:10:04,887 sagemaker-containers INFO     No GPUs detected (normal if no gpus installed)\u001b[0m\n",
      "\u001b[31m2019-06-25 22:10:04,898 sagemaker_tensorflow_container.training INFO     Appending the training job name to model_dir: s3://sagemaker-us-east-1-399712746635/sagemaker-tensorflow-scriptmode-2019-06-23-00-14-46-505/model/sagemaker-tensorflow-190625-2206-006-877d978f/model\u001b[0m\n",
      "\u001b[31m2019-06-25 22:10:05,208 sagemaker-containers INFO     Failed to parse hyperparameter _tuning_objective_metric value Validation_accuracy to Json.\u001b[0m\n",
      "\u001b[31mReturning the value itself\u001b[0m\n",
      "\u001b[31m2019-06-25 22:10:05,212 sagemaker-containers INFO     No GPUs detected (normal if no gpus installed)\u001b[0m\n",
      "\u001b[31m2019-06-25 22:10:05,224 sagemaker-containers INFO     Failed to parse hyperparameter _tuning_objective_metric value Validation_accuracy to Json.\u001b[0m\n",
      "\u001b[31mReturning the value itself\u001b[0m\n",
      "\u001b[31m2019-06-25 22:10:05,228 sagemaker-containers INFO     No GPUs detected (normal if no gpus installed)\u001b[0m\n",
      "\u001b[31m2019-06-25 22:10:05,239 sagemaker-containers INFO     Invoking user script\n",
      "\u001b[0m\n",
      "\u001b[31mTraining Env:\n",
      "\u001b[0m\n",
      "\u001b[31m{\n",
      "    \"additional_framework_parameters\": {\n",
      "        \"sagemaker_estimator_module\": \"sagemaker.tensorflow.estimator\",\n",
      "        \"sagemaker_estimator_class_name\": \"TensorFlow\"\n",
      "    },\n",
      "    \"channel_input_dirs\": {\n",
      "        \"training\": \"/opt/ml/input/data/training\"\n",
      "    },\n",
      "    \"current_host\": \"algo-1\",\n",
      "    \"framework_module\": \"sagemaker_tensorflow_container.training:main\",\n",
      "    \"hosts\": [\n",
      "        \"algo-1\"\n",
      "    ],\n",
      "    \"hyperparameters\": {\n",
      "        \"embedding_size\": 54,\n",
      "        \"lstm_size\": 97,\n",
      "        \"optimizer\": \"adam\",\n",
      "        \"dropout\": 0.22199686351998094,\n",
      "        \"model_dir\": \"s3://sagemaker-us-east-1-399712746635/sagemaker-tensorflow-scriptmode-2019-06-23-00-14-46-505/model\",\n",
      "        \"epochs\": 200\n",
      "    },\n",
      "    \"input_config_dir\": \"/opt/ml/input/config\",\n",
      "    \"input_data_config\": {\n",
      "        \"training\": {\n",
      "            \"TrainingInputMode\": \"File\",\n",
      "            \"S3DistributionType\": \"FullyReplicated\",\n",
      "            \"RecordWrapperType\": \"None\"\n",
      "        }\n",
      "    },\n",
      "    \"input_dir\": \"/opt/ml/input\",\n",
      "    \"is_master\": true,\n",
      "    \"job_name\": \"sagemaker-tensorflow-190625-2206-006-877d978f\",\n",
      "    \"log_level\": 20,\n",
      "    \"master_hostname\": \"algo-1\",\n",
      "    \"model_dir\": \"/opt/ml/model\",\n",
      "    \"module_dir\": \"s3://sagemaker-us-east-1-399712746635/sagemaker-tensorflow-scriptmode-2019-06-25-22-06-48-733/source/sourcedir.tar.gz\",\n",
      "    \"module_name\": \"train\",\n",
      "    \"network_interface_name\": \"eth0\",\n",
      "    \"num_cpus\": 4,\n",
      "    \"num_gpus\": 0,\n",
      "    \"output_data_dir\": \"/opt/ml/output/data\",\n",
      "    \"output_dir\": \"/opt/ml/output\",\n",
      "    \"output_intermediate_dir\": \"/opt/ml/output/intermediate\",\n",
      "    \"resource_config\": {\n",
      "        \"current_host\": \"algo-1\",\n",
      "        \"hosts\": [\n",
      "            \"algo-1\"\n",
      "        ],\n",
      "        \"network_interface_name\": \"eth0\"\n",
      "    },\n",
      "    \"user_entry_point\": \"train.py\"\u001b[0m\n",
      "\u001b[31m}\n",
      "\u001b[0m\n",
      "\u001b[31mEnvironment variables:\n",
      "\u001b[0m\n",
      "\u001b[31mSM_HOSTS=[\"algo-1\"]\u001b[0m\n",
      "\u001b[31mSM_NETWORK_INTERFACE_NAME=eth0\u001b[0m\n",
      "\u001b[31mSM_HPS={\"dropout\":0.22199686351998094,\"embedding_size\":54,\"epochs\":200,\"lstm_size\":97,\"model_dir\":\"s3://sagemaker-us-east-1-399712746635/sagemaker-tensorflow-scriptmode-2019-06-23-00-14-46-505/model/sagemaker-tensorflow-190625-2206-006-877d978f/model\",\"optimizer\":\"adam\"}\u001b[0m\n",
      "\u001b[31mSM_USER_ENTRY_POINT=train.py\u001b[0m\n",
      "\u001b[31mSM_FRAMEWORK_PARAMS={\"sagemaker_estimator_class_name\":\"TensorFlow\",\"sagemaker_estimator_module\":\"sagemaker.tensorflow.estimator\"}\u001b[0m\n",
      "\u001b[31mSM_RESOURCE_CONFIG={\"current_host\":\"algo-1\",\"hosts\":[\"algo-1\"],\"network_interface_name\":\"eth0\"}\u001b[0m\n",
      "\u001b[31mSM_INPUT_DATA_CONFIG={\"training\":{\"RecordWrapperType\":\"None\",\"S3DistributionType\":\"FullyReplicated\",\"TrainingInputMode\":\"File\"}}\u001b[0m\n",
      "\u001b[31mSM_OUTPUT_DATA_DIR=/opt/ml/output/data\u001b[0m\n",
      "\u001b[31mSM_CHANNELS=[\"training\"]\u001b[0m\n",
      "\u001b[31mSM_CURRENT_HOST=algo-1\u001b[0m\n",
      "\u001b[31mSM_MODULE_NAME=train\u001b[0m\n",
      "\u001b[31mSM_LOG_LEVEL=20\u001b[0m\n",
      "\u001b[31mSM_FRAMEWORK_MODULE=sagemaker_tensorflow_container.training:main\u001b[0m\n",
      "\u001b[31mSM_INPUT_DIR=/opt/ml/input\u001b[0m\n",
      "\u001b[31mSM_INPUT_CONFIG_DIR=/opt/ml/input/config\u001b[0m\n",
      "\u001b[31mSM_OUTPUT_DIR=/opt/ml/output\u001b[0m\n",
      "\u001b[31mSM_NUM_CPUS=4\u001b[0m\n",
      "\u001b[31mSM_NUM_GPUS=0\u001b[0m\n",
      "\u001b[31mSM_MODEL_DIR=/opt/ml/model\u001b[0m\n",
      "\u001b[31mSM_MODULE_DIR=s3://sagemaker-us-east-1-399712746635/sagemaker-tensorflow-scriptmode-2019-06-25-22-06-48-733/source/sourcedir.tar.gz\u001b[0m\n",
      "\u001b[31mSM_TRAINING_ENV={\"additional_framework_parameters\":{\"sagemaker_estimator_class_name\":\"TensorFlow\",\"sagemaker_estimator_module\":\"sagemaker.tensorflow.estimator\"},\"channel_input_dirs\":{\"training\":\"/opt/ml/input/data/training\"},\"current_host\":\"algo-1\",\"framework_module\":\"sagemaker_tensorflow_container.training:main\",\"hosts\":[\"algo-1\"],\"hyperparameters\":{\"dropout\":0.22199686351998094,\"embedding_size\":54,\"epochs\":200,\"lstm_size\":97,\"model_dir\":\"s3://sagemaker-us-east-1-399712746635/sagemaker-tensorflow-scriptmode-2019-06-23-00-14-46-505/model/sagemaker-tensorflow-190625-2206-006-877d978f/model\",\"optimizer\":\"adam\"},\"input_config_dir\":\"/opt/ml/input/config\",\"input_data_config\":{\"training\":{\"RecordWrapperType\":\"None\",\"S3DistributionType\":\"FullyReplicated\",\"TrainingInputMode\":\"File\"}},\"input_dir\":\"/opt/ml/input\",\"is_master\":true,\"job_name\":\"sagemaker-tensorflow-190625-2206-006-877d978f\",\"log_level\":20,\"master_hostname\":\"algo-1\",\"model_dir\":\"/opt/ml/model\",\"module_dir\":\"s3://sagemaker-us-east-1-399712746635/sagemaker-tensorflow-scriptmode-2019-06-25-22-06-48-733/source/sourcedir.tar.gz\",\"module_name\":\"train\",\"network_interface_name\":\"eth0\",\"num_cpus\":4,\"num_gpus\":0,\"output_data_dir\":\"/opt/ml/output/data\",\"output_dir\":\"/opt/ml/output\",\"output_intermediate_dir\":\"/opt/ml/output/intermediate\",\"resource_config\":{\"current_host\":\"algo-1\",\"hosts\":[\"algo-1\"],\"network_interface_name\":\"eth0\"},\"user_entry_point\":\"train.py\"}\u001b[0m\n",
      "\u001b[31mSM_USER_ARGS=[\"--dropout\",\"0.22199686351998094\",\"--embedding_size\",\"54\",\"--epochs\",\"200\",\"--lstm_size\",\"97\",\"--model_dir\",\"s3://sagemaker-us-east-1-399712746635/sagemaker-tensorflow-scriptmode-2019-06-23-00-14-46-505/model/sagemaker-tensorflow-190625-2206-006-877d978f/model\",\"--optimizer\",\"adam\"]\u001b[0m\n",
      "\u001b[31mSM_OUTPUT_INTERMEDIATE_DIR=/opt/ml/output/intermediate\u001b[0m\n",
      "\u001b[31mSM_CHANNEL_TRAINING=/opt/ml/input/data/training\u001b[0m\n",
      "\u001b[31mSM_HP_EMBEDDING_SIZE=54\u001b[0m\n",
      "\u001b[31mSM_HP_LSTM_SIZE=97\u001b[0m\n",
      "\u001b[31mSM_HP_OPTIMIZER=adam\u001b[0m\n",
      "\u001b[31mSM_HP_DROPOUT=0.22199686351998094\u001b[0m\n",
      "\u001b[31mSM_HP_MODEL_DIR=s3://sagemaker-us-east-1-399712746635/sagemaker-tensorflow-scriptmode-2019-06-23-00-14-46-505/model/sagemaker-tensorflow-190625-2206-006-877d978f/model\u001b[0m\n",
      "\u001b[31mSM_HP_EPOCHS=200\u001b[0m\n",
      "\u001b[31mPYTHONPATH=/opt/ml/code:/usr/local/bin:/usr/lib/python36.zip:/usr/lib/python3.6:/usr/lib/python3.6/lib-dynload:/usr/local/lib/python3.6/dist-packages:/usr/lib/python3/dist-packages\n",
      "\u001b[0m\n",
      "\u001b[31mInvoking script with the following command:\n",
      "\u001b[0m\n",
      "\u001b[31m/usr/bin/python train.py --dropout 0.22199686351998094 --embedding_size 54 --epochs 200 --lstm_size 97 --model_dir s3://sagemaker-us-east-1-399712746635/sagemaker-tensorflow-scriptmode-2019-06-23-00-14-46-505/model/sagemaker-tensorflow-190625-2206-006-877d978f/model --optimizer adam\n",
      "\n",
      "\u001b[0m\n",
      "\u001b[31mepochs=200 embedding_size=54 lstm_size=97\u001b[0m\n",
      "\u001b[31mValidation_loss:0.24057497915833495;Validation_accuracy:0.7674418590789618;\u001b[0m\n",
      "\u001b[31mWARNING:tensorflow:Export includes no default signature!\u001b[0m\n",
      "\u001b[31mWARNING:tensorflow:Export includes no default signature!\u001b[0m\n",
      "\u001b[31mSave Keras Model result: b\"/opt/ml/model/temp-b'1561500711'\"\u001b[0m\n",
      "\u001b[31m2019-06-25 22:11:54,842 sagemaker-containers INFO     Reporting training SUCCESS\u001b[0m\n",
      "Billable seconds: 156\n"
     ]
    }
   ],
   "source": [
    "# Reload an existing trained estimator\n",
    "training_job_name = tf_hyperparameter_tuner.best_training_job()\n",
    "estimator = TensorFlow.attach(training_job_name)"
   ]
  },
  {
   "cell_type": "code",
   "execution_count": 131,
   "metadata": {},
   "outputs": [
    {
     "name": "stdout",
     "output_type": "stream",
     "text": [
      "--------------------------------------------------------------------------------------------------!"
     ]
    }
   ],
   "source": [
    "predictor = estimator.deploy(initial_instance_count=1,\n",
    "                             # instance_type='ml.c5.xlarge',\n",
    "                             instance_type='ml.t2.medium',\n",
    "                             endpoint_type='tensorflow-serving')"
   ]
  },
  {
   "cell_type": "markdown",
   "metadata": {},
   "source": [
    "## Load and Evaluate Test Data"
   ]
  },
  {
   "cell_type": "code",
   "execution_count": 132,
   "metadata": {},
   "outputs": [],
   "source": [
    "import numpy as np\n",
    "def evaluate(predictor, test_features, test_labels, verbose=True):\n",
    "    \"\"\"\n",
    "    Evaluate a model on a test set given the prediction endpoint.  \n",
    "    Return binary classification metrics.\n",
    "    :param predictor: A prediction endpoint\n",
    "    :param test_features: Test features\n",
    "    :param test_labels: Class labels for test data\n",
    "    :param verbose: If True, prints a table of all performance metrics\n",
    "    :return: A dictionary of performance metrics.\n",
    "    \"\"\"\n",
    "    \n",
    "    # rounding and squeezing array\n",
    "    test_preds = np.squeeze(predictor.predict(test_features)['predictions'])\n",
    "    # Normalized to range 0 to 1\n",
    "    min_red = test_y_preds.min()\n",
    "    max_pred = test_y_preds.max()\n",
    "    test_y_preds = (test_y_preds - min_pred) / (max_pred - min_pred)\n",
    "    test_preds = np.round(test_preds)    \n",
    "    # calculate true positives, false positives, true negatives, false negatives\n",
    "    tp = np.logical_and(test_labels, test_preds).sum()\n",
    "    fp = np.logical_and(1-test_labels, test_preds).sum()\n",
    "    tn = np.logical_and(1-test_labels, 1-test_preds).sum()\n",
    "    fn = np.logical_and(test_labels, 1-test_preds).sum()\n",
    "    \n",
    "    # calculate binary classification metrics\n",
    "    recall = tp / (tp + fn)\n",
    "    precision = tp / (tp + fp)\n",
    "    accuracy = (tp + tn) / (tp + fp + tn + fn)\n",
    "    \n",
    "    # print metrics\n",
    "    if verbose:\n",
    "        print(pd.crosstab(test_labels, test_preds, rownames=['actuals'], colnames=['predictions']))\n",
    "        print(\"\\n{:<11} {:.3f}\".format('Recall:', recall))\n",
    "        print(\"{:<11} {:.3f}\".format('Precision:', precision))\n",
    "        print(\"{:<11} {:.3f}\".format('Accuracy:', accuracy))\n",
    "        print()\n",
    "        \n",
    "    return tp, fp, fn, tn, precision, recall, accuracy"
   ]
  },
  {
   "cell_type": "code",
   "execution_count": 133,
   "metadata": {},
   "outputs": [],
   "source": [
    "test_data = pd.read_csv(os.path.join(data_dir, \"test.csv\"), header=None, names=None)\n",
    "test_y = test_data.iloc[:, 0].values\n",
    "test_x = test_data.iloc[:, 1:].values"
   ]
  },
  {
   "cell_type": "code",
   "execution_count": 134,
   "metadata": {},
   "outputs": [
    {
     "name": "stdout",
     "output_type": "stream",
     "text": [
      "[ 4.10960932e-03 -6.35614264e-03  4.46019164e-03 -1.69594516e-02\n",
      "  8.16530986e-01  4.69173840e-01  4.80202937e-03  5.49756554e-03\n",
      " -2.61269622e-01  8.24399174e-03  8.47077669e-01  7.94946052e-03\n",
      " -1.51907646e-02  4.63883263e-01  9.80572975e-01  9.77340007e-01\n",
      "  9.80397694e-01  9.80134772e-01  1.07523468e-01 -6.77400382e-03\n",
      "  5.53131695e-02 -1.25312585e-01  1.00000000e+00  4.77586375e-03\n",
      "  1.68725899e-01  5.86324154e-02  7.74893857e-01  6.41065516e-01\n",
      "  1.00313559e-02  9.62643633e-01  4.65057648e-03  1.67205819e-02\n",
      "  9.95199237e-01  1.02664278e-02  1.36930822e-03  4.46518716e-03\n",
      "  5.48881120e-03  4.36334865e-03 -1.99875355e-03  1.39826861e-02\n",
      "  2.75562848e-02  2.72994001e-04  8.65174502e-02]\n"
     ]
    }
   ],
   "source": [
    "# First: generate predicted, class labels\n",
    "test_y_preds = np.squeeze(predictor.predict(test_x)['predictions'])\n",
    "#normalize to 0 - 1\n",
    "min_red = test_y_preds.min()\n",
    "max_pred = test_y_preds.max()\n",
    "test_y_preds = (test_y_preds - min_pred) / (max_pred - min_pred)\n",
    "print(test_y_preds)    "
   ]
  },
  {
   "cell_type": "code",
   "execution_count": 137,
   "metadata": {},
   "outputs": [
    {
     "name": "stdout",
     "output_type": "stream",
     "text": [
      "predictions  0.0  1.0\n",
      "actuals              \n",
      "0.0           24    2\n",
      "1.0            8    9\n",
      "\n",
      "Recall:     0.529\n",
      "Precision:  0.818\n",
      "Accuracy:   0.767\n",
      "\n",
      "    raw_predicted  predicted  actual\n",
      "1       -0.006356       -0.0     1.0\n",
      "5        0.469174        0.0     1.0\n",
      "8       -0.261270       -0.0     1.0\n",
      "15       0.977340        1.0     0.0\n",
      "17       0.980135        1.0     0.0\n",
      "19      -0.006774       -0.0     1.0\n",
      "21      -0.125313       -0.0     1.0\n",
      "24       0.168726        0.0     1.0\n",
      "38      -0.001999       -0.0     1.0\n",
      "41       0.000273        0.0     1.0\n"
     ]
    }
   ],
   "source": [
    "# Second: calculate the test accuracy\n",
    "tp, fp, fn, tn, precision, recall, accuracy = evaluate(predictor, test_x, test_y)\n",
    "\n",
    "## print out the array of predicted and true labels, if you want\n",
    "results = pd.concat([pd.DataFrame(test_y_preds), pd.DataFrame(np.round(test_y_preds)), pd.DataFrame(test_y)], axis=1)\n",
    "results.columns = ['raw_predicted','predicted','actual']\n",
    "incorrect_results = results[results['predicted'] != results['actual']]\n",
    "print(incorrect_results)"
   ]
  }
 ],
 "metadata": {
  "kernelspec": {
   "display_name": "conda_tensorflow_p36",
   "language": "python",
   "name": "conda_tensorflow_p36"
  },
  "language_info": {
   "codemirror_mode": {
    "name": "ipython",
    "version": 3
   },
   "file_extension": ".py",
   "mimetype": "text/x-python",
   "name": "python",
   "nbconvert_exporter": "python",
   "pygments_lexer": "ipython3",
   "version": "3.6.5"
  }
 },
 "nbformat": 4,
 "nbformat_minor": 2
}
